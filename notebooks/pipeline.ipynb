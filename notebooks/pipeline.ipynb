{
 "cells": [
  {
   "cell_type": "code",
   "execution_count": 1,
   "metadata": {},
   "outputs": [],
   "source": [
    "# import the necessary packages \n",
    "\n",
    "\n",
    "# Normal libraries\n",
    "import pandas as pd\n",
    "import numpy as np\n",
    "import os\n",
    "import shutil\n",
    "\n",
    "# pickle\n",
    "import pickle as pk\n",
    "\n",
    "#\n",
    "from IPython.display import Image\n",
    "\n",
    "# visualization libraries\n",
    "import matplotlib.pyplot as plt\n",
    "\n",
    "# sklearn libraries\n",
    "from sklearn.pipeline import Pipeline\n",
    "from sklearn.preprocessing import OneHotEncoder\n",
    "from sklearn.model_selection import train_test_split\n",
    "\n",
    "# sklearn tensorflow.keras  libraries\n",
    "from tensorflow.keras.models  import Sequential, load_model\n",
    "from tensorflow.keras  import layers\n",
    "from tensorflow.keras.callbacks import EarlyStopping, ModelCheckpoint"
   ]
  },
  {
   "cell_type": "code",
   "execution_count": 2,
   "metadata": {},
   "outputs": [
    {
     "ename": "AttributeError",
     "evalue": "module 'keras.api._v2.keras.layers' has no attribute 'PROCESSING_1'",
     "output_type": "error",
     "traceback": [
      "\u001b[0;31m---------------------------------------------------------------------------\u001b[0m",
      "\u001b[0;31mAttributeError\u001b[0m                            Traceback (most recent call last)",
      "\u001b[1;32m/Users/amateos88/code/vivekptl9/Anaemia_Classification/pipeline.ipynb Cell 2\u001b[0m in \u001b[0;36m<cell line: 1>\u001b[0;34m()\u001b[0m\n\u001b[1;32m      <a href='vscode-notebook-cell:/Users/amateos88/code/vivekptl9/Anaemia_Classification/pipeline.ipynb#W1sZmlsZQ%3D%3D?line=0'>1</a>\u001b[0m model_pipe \u001b[39m=\u001b[39m Sequential([\n\u001b[0;32m----> <a href='vscode-notebook-cell:/Users/amateos88/code/vivekptl9/Anaemia_Classification/pipeline.ipynb#W1sZmlsZQ%3D%3D?line=1'>2</a>\u001b[0m     layers\u001b[39m.\u001b[39;49mPROCESSING_1,\n\u001b[1;32m      <a href='vscode-notebook-cell:/Users/amateos88/code/vivekptl9/Anaemia_Classification/pipeline.ipynb#W1sZmlsZQ%3D%3D?line=2'>3</a>\u001b[0m     layers\u001b[39m.\u001b[39mPROCESSING_2,\n\u001b[1;32m      <a href='vscode-notebook-cell:/Users/amateos88/code/vivekptl9/Anaemia_Classification/pipeline.ipynb#W1sZmlsZQ%3D%3D?line=3'>4</a>\u001b[0m     layers\u001b[39m.\u001b[39mConv2D(),\u001b[39m# or model specific\u001b[39;00m\n\u001b[1;32m      <a href='vscode-notebook-cell:/Users/amateos88/code/vivekptl9/Anaemia_Classification/pipeline.ipynb#W1sZmlsZQ%3D%3D?line=4'>5</a>\u001b[0m     layers\u001b[39m.\u001b[39mMaxPool2D(), \u001b[39m# or model specific\u001b[39;00m\n\u001b[1;32m      <a href='vscode-notebook-cell:/Users/amateos88/code/vivekptl9/Anaemia_Classification/pipeline.ipynb#W1sZmlsZQ%3D%3D?line=5'>6</a>\u001b[0m     layers\u001b[39m.\u001b[39mFlatten(),\n\u001b[1;32m      <a href='vscode-notebook-cell:/Users/amateos88/code/vivekptl9/Anaemia_Classification/pipeline.ipynb#W1sZmlsZQ%3D%3D?line=6'>7</a>\u001b[0m     layers\u001b[39m.\u001b[39mDense(),\n\u001b[1;32m      <a href='vscode-notebook-cell:/Users/amateos88/code/vivekptl9/Anaemia_Classification/pipeline.ipynb#W1sZmlsZQ%3D%3D?line=7'>8</a>\u001b[0m ])\n\u001b[1;32m     <a href='vscode-notebook-cell:/Users/amateos88/code/vivekptl9/Anaemia_Classification/pipeline.ipynb#W1sZmlsZQ%3D%3D?line=9'>10</a>\u001b[0m model_pipe\u001b[39m.\u001b[39mcompile(loss\u001b[39m=\u001b[39m\u001b[39m'\u001b[39m\u001b[39m'\u001b[39m,\n\u001b[1;32m     <a href='vscode-notebook-cell:/Users/amateos88/code/vivekptl9/Anaemia_Classification/pipeline.ipynb#W1sZmlsZQ%3D%3D?line=10'>11</a>\u001b[0m                    optimizer\u001b[39m=\u001b[39m \u001b[39m'\u001b[39m\u001b[39m'\u001b[39m,\n\u001b[1;32m     <a href='vscode-notebook-cell:/Users/amateos88/code/vivekptl9/Anaemia_Classification/pipeline.ipynb#W1sZmlsZQ%3D%3D?line=11'>12</a>\u001b[0m                    metrics \u001b[39m=\u001b[39m \u001b[39m'\u001b[39m\u001b[39m'\u001b[39m)\n\u001b[1;32m     <a href='vscode-notebook-cell:/Users/amateos88/code/vivekptl9/Anaemia_Classification/pipeline.ipynb#W1sZmlsZQ%3D%3D?line=14'>15</a>\u001b[0m model_pipe\u001b[39m.\u001b[39mfit(X_train, \n\u001b[1;32m     <a href='vscode-notebook-cell:/Users/amateos88/code/vivekptl9/Anaemia_Classification/pipeline.ipynb#W1sZmlsZQ%3D%3D?line=15'>16</a>\u001b[0m                y_train, \n\u001b[1;32m     <a href='vscode-notebook-cell:/Users/amateos88/code/vivekptl9/Anaemia_Classification/pipeline.ipynb#W1sZmlsZQ%3D%3D?line=16'>17</a>\u001b[0m                epochs \u001b[39m=\u001b[39m \u001b[39m1\u001b[39m, \n\u001b[1;32m     <a href='vscode-notebook-cell:/Users/amateos88/code/vivekptl9/Anaemia_Classification/pipeline.ipynb#W1sZmlsZQ%3D%3D?line=17'>18</a>\u001b[0m                batch_size \u001b[39m=\u001b[39m \u001b[39m32\u001b[39m, \n\u001b[1;32m     <a href='vscode-notebook-cell:/Users/amateos88/code/vivekptl9/Anaemia_Classification/pipeline.ipynb#W1sZmlsZQ%3D%3D?line=18'>19</a>\u001b[0m                verbose\u001b[39m=\u001b[39m\u001b[39m0\u001b[39m)\n",
      "\u001b[0;31mAttributeError\u001b[0m: module 'keras.api._v2.keras.layers' has no attribute 'PROCESSING_1'"
     ]
    }
   ],
   "source": [
    "model_pipe = Sequential([\n",
    "    layers.PROCESSING_1,\n",
    "    layers.PROCESSING_2,\n",
    "    layers.Conv2D(),# or model specific\n",
    "    layers.MaxPool2D(), # or model specific\n",
    "    layers.Flatten(),\n",
    "    layers.Dense(),\n",
    "])\n",
    "\n",
    "model_pipe.compile(loss='',\n",
    "                   optimizer= '',\n",
    "                   metrics = '')\n",
    "\n",
    "\n",
    "model_pipe.fit(X_train, \n",
    "               y_train, \n",
    "               epochs = 1, \n",
    "               batch_size = 32, \n",
    "               verbose=0)"
   ]
  },
  {
   "cell_type": "code",
   "execution_count": null,
   "metadata": {},
   "outputs": [],
   "source": [
    "print(model_pipe.evaluate(X_test, y_test, verbose = 0))"
   ]
  }
 ],
 "metadata": {
  "kernelspec": {
   "display_name": "Python 3.8.12 64-bit ('taxifare-env')",
   "language": "python",
   "name": "python3"
  },
  "language_info": {
   "codemirror_mode": {
    "name": "ipython",
    "version": 3
   },
   "file_extension": ".py",
   "mimetype": "text/x-python",
   "name": "python",
   "nbconvert_exporter": "python",
   "pygments_lexer": "ipython3",
   "version": "3.8.12"
  },
  "orig_nbformat": 4,
  "vscode": {
   "interpreter": {
    "hash": "f40ca0c874e460e58e2f6886e0da26d24369302ebadf51e4daa477a026ff94a9"
   }
  }
 },
 "nbformat": 4,
 "nbformat_minor": 2
}
